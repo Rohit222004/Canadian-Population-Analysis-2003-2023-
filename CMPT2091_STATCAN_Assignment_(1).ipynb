{
  "cells": [
    {
      "cell_type": "markdown",
      "id": "a90dad7c",
      "metadata": {
        "id": "a90dad7c"
      },
      "source": [
        "# Base Dependencies and Libraries"
      ]
    },
    {
      "cell_type": "code",
      "source": [
        "!pip install pymongo"
      ],
      "metadata": {
        "colab": {
          "base_uri": "https://localhost:8080/"
        },
        "id": "jIkNqwrVP9Io",
        "outputId": "3df4f672-41ac-4604-90ec-fdf931807185"
      },
      "id": "jIkNqwrVP9Io",
      "execution_count": null,
      "outputs": [
        {
          "output_type": "stream",
          "name": "stdout",
          "text": [
            "Requirement already satisfied: pymongo in /usr/local/lib/python3.10/dist-packages (4.6.3)\n",
            "Requirement already satisfied: dnspython<3.0.0,>=1.16.0 in /usr/local/lib/python3.10/dist-packages (from pymongo) (2.6.1)\n"
          ]
        }
      ]
    },
    {
      "cell_type": "code",
      "source": [
        "!pip install dnspython\n",
        "!pip install geopy\n",
        "!pip install folium"
      ],
      "metadata": {
        "colab": {
          "base_uri": "https://localhost:8080/"
        },
        "id": "YD2626fFQIaS",
        "outputId": "6d6354c6-37eb-4957-fad3-6dc0e69ecebc"
      },
      "id": "YD2626fFQIaS",
      "execution_count": null,
      "outputs": [
        {
          "output_type": "stream",
          "name": "stdout",
          "text": [
            "Requirement already satisfied: dnspython in /usr/local/lib/python3.10/dist-packages (2.6.1)\n",
            "Requirement already satisfied: geopy in /usr/local/lib/python3.10/dist-packages (2.3.0)\n",
            "Requirement already satisfied: geographiclib<3,>=1.52 in /usr/local/lib/python3.10/dist-packages (from geopy) (2.0)\n",
            "Requirement already satisfied: folium in /usr/local/lib/python3.10/dist-packages (0.14.0)\n",
            "Requirement already satisfied: branca>=0.6.0 in /usr/local/lib/python3.10/dist-packages (from folium) (0.7.1)\n",
            "Requirement already satisfied: jinja2>=2.9 in /usr/local/lib/python3.10/dist-packages (from folium) (3.1.3)\n",
            "Requirement already satisfied: numpy in /usr/local/lib/python3.10/dist-packages (from folium) (1.25.2)\n",
            "Requirement already satisfied: requests in /usr/local/lib/python3.10/dist-packages (from folium) (2.31.0)\n",
            "Requirement already satisfied: MarkupSafe>=2.0 in /usr/local/lib/python3.10/dist-packages (from jinja2>=2.9->folium) (2.1.5)\n",
            "Requirement already satisfied: charset-normalizer<4,>=2 in /usr/local/lib/python3.10/dist-packages (from requests->folium) (3.3.2)\n",
            "Requirement already satisfied: idna<4,>=2.5 in /usr/local/lib/python3.10/dist-packages (from requests->folium) (3.6)\n",
            "Requirement already satisfied: urllib3<3,>=1.21.1 in /usr/local/lib/python3.10/dist-packages (from requests->folium) (2.0.7)\n",
            "Requirement already satisfied: certifi>=2017.4.17 in /usr/local/lib/python3.10/dist-packages (from requests->folium) (2024.2.2)\n"
          ]
        }
      ]
    },
    {
      "cell_type": "code",
      "execution_count": null,
      "id": "e126a4bb",
      "metadata": {
        "id": "e126a4bb"
      },
      "outputs": [],
      "source": [
        "import pandas as pd\n",
        "import requests\n",
        "import keys\n",
        "import json"
      ]
    },
    {
      "cell_type": "markdown",
      "id": "15a484a9",
      "metadata": {
        "id": "15a484a9"
      },
      "source": [
        "# Get JSON data format from STATCAN REST API"
      ]
    },
    {
      "cell_type": "code",
      "execution_count": null,
      "id": "d07736a9",
      "metadata": {
        "id": "d07736a9"
      },
      "outputs": [],
      "source": [
        "def data_request_statcan(dimension_1, dimension_2, dimension_3, start_period, end_period):\n",
        "    data_table = 'DF_17100005/'\n",
        "    base_url = 'https://www150.statcan.gc.ca/t1/wds/sdmx/statcan/rest/data/'\n",
        "    # Construct the URL with proper query parameters for period\n",
        "    url = f\"{base_url}{data_table}{dimension_1}.{dimension_2}.{dimension_3}?startPeriod={start_period}&endPeriod={end_period}&detail=dataonly\"\n",
        "    print(url)\n",
        "    try:\n",
        "        response = requests.get(url, headers={'Accept': 'application/json'})\n",
        "        response.raise_for_status()  # Raises an HTTPError if the HTTP request returned an unsuccessful status code\n",
        "    except requests.HTTPError as http_err:\n",
        "        print(f\"HTTP error occurred: {http_err}\")\n",
        "        return None\n",
        "    except Exception as err:\n",
        "        print(f\"An error occurred: {err}\")\n",
        "        return None\n",
        "    return response"
      ]
    },
    {
      "cell_type": "code",
      "execution_count": null,
      "id": "479d0d64",
      "metadata": {
        "id": "479d0d64"
      },
      "outputs": [],
      "source": [
        "#Create dataframe with distinct provinces in Canada\n",
        "province_codes = {\n",
        "    'AB': 'Alberta',\n",
        "    'BC': 'British Columbia',\n",
        "    'MB': 'Manitoba',\n",
        "    'NB': 'New Brunswick',\n",
        "    'NL': 'Newfoundland and Labrador',\n",
        "    'NT': 'Northwest Territories',\n",
        "    'NS': 'Nova Scotia',\n",
        "    'NU': 'Nunavut',\n",
        "    'ON': 'Ontario',\n",
        "    'PE': 'Prince Edward Island',\n",
        "    'QC': 'Quebec',\n",
        "    'SK': 'Saskatchewan',\n",
        "    'YT': 'Yukon',\n",
        "\n",
        "}\n",
        "# Convert the dictionary into a list of tuples\n",
        "province_list = list(province_codes.items())\n",
        "# Create a DataFrame\n",
        "df_provinces = pd.DataFrame(province_list, columns=['Code', 'Province'])"
      ]
    },
    {
      "cell_type": "markdown",
      "id": "d2298d71",
      "metadata": {
        "id": "d2298d71"
      },
      "source": [
        "# Create Atlas Client  on MongoDB"
      ]
    },
    {
      "cell_type": "code",
      "execution_count": null,
      "id": "be3679da",
      "metadata": {
        "id": "be3679da"
      },
      "outputs": [],
      "source": [
        "from pymongo import MongoClient\n",
        "\n",
        "conn = MongoClient()\n",
        "atlas_client = MongoClient(keys.mongo_connection_string)"
      ]
    },
    {
      "cell_type": "markdown",
      "id": "678dd69b",
      "metadata": {
        "id": "678dd69b"
      },
      "source": [
        "### Create Database object representing the statscan database"
      ]
    },
    {
      "cell_type": "code",
      "execution_count": null,
      "id": "ce2f6c6b",
      "metadata": {
        "id": "ce2f6c6b"
      },
      "outputs": [],
      "source": [
        "db_statscan = atlas_client.statscan"
      ]
    },
    {
      "cell_type": "code",
      "execution_count": null,
      "id": "5566634b",
      "metadata": {
        "id": "5566634b"
      },
      "outputs": [],
      "source": [
        "#Create a collection (table) in your db_statscan object,\n",
        "#Please select a meaningful name based on the data generated from create_dataframe\n",
        "\n",
        "collection_name = 'Assignment' #choose a name\n",
        "collection = db_statscan[collection_name]"
      ]
    },
    {
      "cell_type": "markdown",
      "id": "c25976c7",
      "metadata": {
        "id": "c25976c7"
      },
      "source": [
        "# Function to request data to REST API and convert to dataframe"
      ]
    },
    {
      "cell_type": "code",
      "execution_count": null,
      "id": "b96738f6",
      "metadata": {
        "id": "b96738f6"
      },
      "outputs": [],
      "source": [
        "def create_dataframe(response):\n",
        "    if not response:\n",
        "        return pd.DataFrame()  # Return an empty DataFrame if there was an error in the response\n",
        "\n",
        "    data = response.json()\n",
        "    data_sets = data['dataSets']\n",
        "    data_structure = data['structure']['dimensions']['series']\n",
        "    #print(data_structure)\n",
        "    data_structure_time = data['structure']['dimensions']['observation']\n",
        "\n",
        "    # Extract age group and time period data\n",
        "    age_group_data = next(item for item in data_structure if item['name'] == 'Age group')\n",
        "    age_group_values = pd.json_normalize(age_group_data, 'values')['name'].tolist()\n",
        "\n",
        "    time_data = next(item for item in data_structure_time if item['name'] == 'Time')\n",
        "    date_values = pd.json_normalize(time_data, 'values')['name'].tolist()\n",
        "\n",
        "    # Extract the 'Geography' and 'Gender' values\n",
        "    geography_value = next(item for item in data_structure if item['id'] == 'Geography')['values'][0]['name']\n",
        "    sex_value = next(item for item in data_structure if item['id'] == 'Gender')['values'][0]['name']\n",
        "\n",
        "\n",
        "    # Initialize the data storage with dates as the keys\n",
        "    df_data = {date: [None] * len(age_group_values) for date in date_values}\n",
        "    columns = ['Year'] + age_group_values\n",
        "\n",
        "    # Map series keys to the corresponding age group index\n",
        "    series_key_to_index = {series_key: index for index, series_key in enumerate(data_sets[0]['series'].keys())}\n",
        "\n",
        "    # Process the observations to populate the data storage\n",
        "    for series_key, series_data in data_sets[0]['series'].items():\n",
        "        observations = series_data['observations']\n",
        "        series_index = series_key_to_index[series_key]\n",
        "        for key, value in observations.items():\n",
        "            date = date_values[int(key)]\n",
        "            df_data[date][series_index] = value[0]  # Assign the value to the correct age group\n",
        "\n",
        "    # Convert the data storage to a DataFrame\n",
        "    df_data_list = [[date] + values for date, values in df_data.items()]\n",
        "    df = pd.DataFrame(df_data_list, columns=columns)\n",
        "\n",
        "    # Add 'Geography' and 'Gender' columns with the extracted values\n",
        "    df['Geography'] = geography_value\n",
        "    df['Gender'] = sex_value\n",
        "\n",
        "    # Replace missing values with NaN\n",
        "    df.replace(to_replace=[None], value=pd.NA, inplace=True)\n",
        "\n",
        "    return df"
      ]
    },
    {
      "cell_type": "markdown",
      "id": "277d6f5f",
      "metadata": {
        "id": "277d6f5f"
      },
      "source": [
        "# Modify your request to STATCAN and get REST API string call\n",
        "\n",
        "Dimension 1 = Geography\n",
        "<br>\n",
        "Dimension 2 = Sex (Gender)\n",
        "<br>\n",
        "Dimension 3 = Age Group\n",
        "<br>\n",
        "Start and End periods are in Years (YYYY)"
      ]
    },
    {
      "cell_type": "code",
      "execution_count": null,
      "id": "0eed135f",
      "metadata": {
        "colab": {
          "base_uri": "https://localhost:8080/"
        },
        "id": "0eed135f",
        "outputId": "6b7e54b7-be00-4ec6-93a1-0c8ffa38f359"
      },
      "outputs": [
        {
          "output_type": "stream",
          "name": "stdout",
          "text": [
            "https://www150.statcan.gc.ca/t1/wds/sdmx/statcan/rest/data/DF_17100005/1.1.1?startPeriod=2003&endPeriod=2023&detail=dataonly\n",
            "Data inserted into collection Assignment successfully.\n",
            "https://www150.statcan.gc.ca/t1/wds/sdmx/statcan/rest/data/DF_17100005/1.1.25?startPeriod=2003&endPeriod=2023&detail=dataonly\n",
            "Data inserted into collection Assignment successfully.\n",
            "https://www150.statcan.gc.ca/t1/wds/sdmx/statcan/rest/data/DF_17100005/1.1.79?startPeriod=2003&endPeriod=2023&detail=dataonly\n",
            "Data inserted into collection Assignment successfully.\n",
            "https://www150.statcan.gc.ca/t1/wds/sdmx/statcan/rest/data/DF_17100005/1.1.80?startPeriod=2003&endPeriod=2023&detail=dataonly\n",
            "Data inserted into collection Assignment successfully.\n",
            "https://www150.statcan.gc.ca/t1/wds/sdmx/statcan/rest/data/DF_17100005/1.2.1?startPeriod=2003&endPeriod=2023&detail=dataonly\n",
            "Data inserted into collection Assignment successfully.\n",
            "https://www150.statcan.gc.ca/t1/wds/sdmx/statcan/rest/data/DF_17100005/1.2.25?startPeriod=2003&endPeriod=2023&detail=dataonly\n",
            "Data inserted into collection Assignment successfully.\n",
            "https://www150.statcan.gc.ca/t1/wds/sdmx/statcan/rest/data/DF_17100005/1.2.79?startPeriod=2003&endPeriod=2023&detail=dataonly\n",
            "Data inserted into collection Assignment successfully.\n",
            "https://www150.statcan.gc.ca/t1/wds/sdmx/statcan/rest/data/DF_17100005/1.2.80?startPeriod=2003&endPeriod=2023&detail=dataonly\n",
            "Data inserted into collection Assignment successfully.\n",
            "https://www150.statcan.gc.ca/t1/wds/sdmx/statcan/rest/data/DF_17100005/1.3.1?startPeriod=2003&endPeriod=2023&detail=dataonly\n",
            "Data inserted into collection Assignment successfully.\n",
            "https://www150.statcan.gc.ca/t1/wds/sdmx/statcan/rest/data/DF_17100005/1.3.25?startPeriod=2003&endPeriod=2023&detail=dataonly\n",
            "Data inserted into collection Assignment successfully.\n",
            "https://www150.statcan.gc.ca/t1/wds/sdmx/statcan/rest/data/DF_17100005/1.3.79?startPeriod=2003&endPeriod=2023&detail=dataonly\n",
            "Data inserted into collection Assignment successfully.\n",
            "https://www150.statcan.gc.ca/t1/wds/sdmx/statcan/rest/data/DF_17100005/1.3.80?startPeriod=2003&endPeriod=2023&detail=dataonly\n",
            "Data inserted into collection Assignment successfully.\n"
          ]
        }
      ],
      "source": [
        "#Please enter the codes for each dimension in string format '' separated by ,\n",
        "dimension_1_codes = ['1']\n",
        "dimension_2_codes = ['1','2','3']\n",
        "dimension_3_codes = ['1','25','79','80']\n",
        "\n",
        "#Please enter the start and end periods in string format ''\n",
        "start_period = '2003'\n",
        "end_period = '2023'\n",
        "\n",
        "for dimension_1 in dimension_1_codes:\n",
        "    for dimension_2 in dimension_2_codes:\n",
        "        for dimension_3 in dimension_3_codes:\n",
        "            # Request to the STATCAN Rest API\n",
        "            response = data_request_statcan(dimension_1, dimension_2, dimension_3, start_period, end_period)\n",
        "\n",
        "            # Convert the API response into a DataFrame\n",
        "            dataframe_resp = create_dataframe(response)\n",
        "            dataframe_resp.head()\n",
        "\n",
        "            # Convert the DataFrame into a list of dictionaries\n",
        "            records = dataframe_resp.to_dict('records')\n",
        "\n",
        "            # Insert the records into the MongoDB collection\n",
        "            try:\n",
        "                collection.insert_many(records)\n",
        "                print(f\"Data inserted into collection {collection_name} successfully.\")\n",
        "            except Exception as e:\n",
        "                print(f\"An error occurred: {e}\")"
      ]
    },
    {
      "cell_type": "markdown",
      "id": "563caff6",
      "metadata": {
        "id": "563caff6"
      },
      "source": [
        "### Search in the MongoDB collection for the max number of people per sex per province for 'All ages'"
      ]
    },
    {
      "cell_type": "code",
      "execution_count": null,
      "id": "05f97b89",
      "metadata": {
        "id": "05f97b89"
      },
      "outputs": [],
      "source": [
        "\n",
        "\n",
        "\n",
        "def query_collection_db(sex_categories, df_provinces):\n",
        "    # List to store max counts for each province, sex category, and age group\n",
        "    province_sex_max_counts = []\n",
        "\n",
        "    # Iterate over the provinces in the DataFrame\n",
        "    for province in df_provinces['Province']:\n",
        "        for sex in sex_categories:\n",
        "            # Aggregate to find the max counts for each age group for each sex in each province\n",
        "            max_count = collection.aggregate([\n",
        "                {'$match': {'Geography': province, 'Gender': sex}},\n",
        "                {'$project': {\n",
        "                    'All ages': {'$toInt': '$All ages'},  # Convert 'All ages' to an integer if it's a string\n",
        "                    '15 to 19 years': {'$toInt': '$15 to 19 years'},  # Convert '15 to 19 years' to an integer if it's a string\n",
        "                    '60 to 65 years': {'$toInt': '$60 to 65 years'},  # Convert '60 to 65 years' to an integer if it's a string\n",
        "                    'Geography': 1,  # Include Geography for grouping\n",
        "                    'Gender': 1  # Include Sex for grouping\n",
        "                }},\n",
        "                {'$group': {\n",
        "                    '_id': {'Gender': '$Gender'},  # Group by Sex\n",
        "                    'maxAllAges': {'$max': '$All ages'},  # Get max of 'All ages'\n",
        "                    'max15to19': {'$max': '$15 to 19 years'},  # Get max of '15 to 19 years'\n",
        "                    'max60to65': {'$max': '$60 to 65 years'},  # Get max of '60 to 65 years'\n",
        "                }}\n",
        "            ])\n",
        "\n",
        "            # Get the result\n",
        "            result = next(max_count, None)\n",
        "            # If there's a result, calculate population differences and append them to the list with the province name, sex, and age groups\n",
        "            if result:\n",
        "                maxAllAges = result['maxAllAges']\n",
        "                max15to19 = result['max15to19']\n",
        "                max60to65 = result['max60to65']\n",
        "\n",
        "                # Calculate population differences\n",
        "                if maxAllAges is not None and max15to19 is not None:\n",
        "                    population_difference_all_ages_vs_15to19 = maxAllAges - max15to19\n",
        "                else:\n",
        "                    population_difference_all_ages_vs_15to19 = None\n",
        "\n",
        "                if max15to19 is not None and max60to65 is not None:\n",
        "                    population_difference_15to19_vs_60to65 = max15to19 - max60to65\n",
        "                else:\n",
        "                    population_difference_15to19_vs_60to65 = None\n",
        "\n",
        "                province_sex_max_counts.append({\n",
        "                    'Province': province,\n",
        "                    'Gender': result['_id']['Gender'],\n",
        "                    'maxAllAges': maxAllAges,\n",
        "                    'max15to19': max15to19,\n",
        "                    'max60to65': max60to65,\n",
        "                    'population_difference_all_ages_vs_15to19': population_difference_all_ages_vs_15to19,\n",
        "                    'population_difference_15to19_vs_60to65': population_difference_15to19_vs_60to65\n",
        "                })\n",
        "            else:\n",
        "                # If no result, append a dict with 'None' for all values\n",
        "                province_sex_max_counts.append({\n",
        "                    'Province': province,\n",
        "                    'Gender': sex,\n",
        "                    'maxAllAges': None,\n",
        "                    'max15to19': None,\n",
        "                    'max60to65': None,\n",
        "                    'population_difference_all_ages_vs_15to19': None,\n",
        "                    'population_difference_15to19_vs_60to65': None\n",
        "                })\n",
        "\n",
        "    # Convert the list of max counts to a DataFrame\n",
        "    df_max_counts = pd.DataFrame(province_sex_max_counts)\n",
        "    df_max_counts.fillna(0, inplace=True)  # Fill NaN values with 0 for better presentation\n",
        "\n",
        "    return df_max_counts\n"
      ]
    },
    {
      "cell_type": "code",
      "execution_count": null,
      "id": "4dd9e64f",
      "metadata": {
        "id": "4dd9e64f"
      },
      "outputs": [],
      "source": [
        "# Define the sex categories to iterate over\n",
        "sex_categories = ['Men+', 'Women+', 'Total - gender']\n",
        "df_province_maxcount = query_collection_db(sex_categories, df_provinces)"
      ]
    },
    {
      "cell_type": "code",
      "execution_count": null,
      "id": "d94cb7e6",
      "metadata": {
        "scrolled": true,
        "colab": {
          "base_uri": "https://localhost:8080/",
          "height": 278
        },
        "id": "d94cb7e6",
        "outputId": "5fc36eae-3da8-45f1-ed47-500082ba09f3"
      },
      "outputs": [
        {
          "output_type": "execute_result",
          "data": {
            "text/plain": [
              "           Province          Gender  maxAllAges  max15to19  max60to65  \\\n",
              "0           Alberta            Men+   2363694.0   145710.0          0   \n",
              "1           Alberta          Women+   2331596.0   136571.0          0   \n",
              "2           Alberta  Total - gender   4695290.0   282281.0          0   \n",
              "3  British Columbia            Men+   2736718.0   150078.0          0   \n",
              "4  British Columbia          Women+   2782295.0   142130.0          0   \n",
              "\n",
              "   population_difference_all_ages_vs_15to19  \\\n",
              "0                                 2217984.0   \n",
              "1                                 2195025.0   \n",
              "2                                 4413009.0   \n",
              "3                                 2586640.0   \n",
              "4                                 2640165.0   \n",
              "\n",
              "   population_difference_15to19_vs_60to65  \n",
              "0                                       0  \n",
              "1                                       0  \n",
              "2                                       0  \n",
              "3                                       0  \n",
              "4                                       0  "
            ],
            "text/html": [
              "\n",
              "  <div id=\"df-dc52eb5f-0a80-4dd6-b02b-f523af063cc5\" class=\"colab-df-container\">\n",
              "    <div>\n",
              "<style scoped>\n",
              "    .dataframe tbody tr th:only-of-type {\n",
              "        vertical-align: middle;\n",
              "    }\n",
              "\n",
              "    .dataframe tbody tr th {\n",
              "        vertical-align: top;\n",
              "    }\n",
              "\n",
              "    .dataframe thead th {\n",
              "        text-align: right;\n",
              "    }\n",
              "</style>\n",
              "<table border=\"1\" class=\"dataframe\">\n",
              "  <thead>\n",
              "    <tr style=\"text-align: right;\">\n",
              "      <th></th>\n",
              "      <th>Province</th>\n",
              "      <th>Gender</th>\n",
              "      <th>maxAllAges</th>\n",
              "      <th>max15to19</th>\n",
              "      <th>max60to65</th>\n",
              "      <th>population_difference_all_ages_vs_15to19</th>\n",
              "      <th>population_difference_15to19_vs_60to65</th>\n",
              "    </tr>\n",
              "  </thead>\n",
              "  <tbody>\n",
              "    <tr>\n",
              "      <th>0</th>\n",
              "      <td>Alberta</td>\n",
              "      <td>Men+</td>\n",
              "      <td>2363694.0</td>\n",
              "      <td>145710.0</td>\n",
              "      <td>0</td>\n",
              "      <td>2217984.0</td>\n",
              "      <td>0</td>\n",
              "    </tr>\n",
              "    <tr>\n",
              "      <th>1</th>\n",
              "      <td>Alberta</td>\n",
              "      <td>Women+</td>\n",
              "      <td>2331596.0</td>\n",
              "      <td>136571.0</td>\n",
              "      <td>0</td>\n",
              "      <td>2195025.0</td>\n",
              "      <td>0</td>\n",
              "    </tr>\n",
              "    <tr>\n",
              "      <th>2</th>\n",
              "      <td>Alberta</td>\n",
              "      <td>Total - gender</td>\n",
              "      <td>4695290.0</td>\n",
              "      <td>282281.0</td>\n",
              "      <td>0</td>\n",
              "      <td>4413009.0</td>\n",
              "      <td>0</td>\n",
              "    </tr>\n",
              "    <tr>\n",
              "      <th>3</th>\n",
              "      <td>British Columbia</td>\n",
              "      <td>Men+</td>\n",
              "      <td>2736718.0</td>\n",
              "      <td>150078.0</td>\n",
              "      <td>0</td>\n",
              "      <td>2586640.0</td>\n",
              "      <td>0</td>\n",
              "    </tr>\n",
              "    <tr>\n",
              "      <th>4</th>\n",
              "      <td>British Columbia</td>\n",
              "      <td>Women+</td>\n",
              "      <td>2782295.0</td>\n",
              "      <td>142130.0</td>\n",
              "      <td>0</td>\n",
              "      <td>2640165.0</td>\n",
              "      <td>0</td>\n",
              "    </tr>\n",
              "  </tbody>\n",
              "</table>\n",
              "</div>\n",
              "    <div class=\"colab-df-buttons\">\n",
              "\n",
              "  <div class=\"colab-df-container\">\n",
              "    <button class=\"colab-df-convert\" onclick=\"convertToInteractive('df-dc52eb5f-0a80-4dd6-b02b-f523af063cc5')\"\n",
              "            title=\"Convert this dataframe to an interactive table.\"\n",
              "            style=\"display:none;\">\n",
              "\n",
              "  <svg xmlns=\"http://www.w3.org/2000/svg\" height=\"24px\" viewBox=\"0 -960 960 960\">\n",
              "    <path d=\"M120-120v-720h720v720H120Zm60-500h600v-160H180v160Zm220 220h160v-160H400v160Zm0 220h160v-160H400v160ZM180-400h160v-160H180v160Zm440 0h160v-160H620v160ZM180-180h160v-160H180v160Zm440 0h160v-160H620v160Z\"/>\n",
              "  </svg>\n",
              "    </button>\n",
              "\n",
              "  <style>\n",
              "    .colab-df-container {\n",
              "      display:flex;\n",
              "      gap: 12px;\n",
              "    }\n",
              "\n",
              "    .colab-df-convert {\n",
              "      background-color: #E8F0FE;\n",
              "      border: none;\n",
              "      border-radius: 50%;\n",
              "      cursor: pointer;\n",
              "      display: none;\n",
              "      fill: #1967D2;\n",
              "      height: 32px;\n",
              "      padding: 0 0 0 0;\n",
              "      width: 32px;\n",
              "    }\n",
              "\n",
              "    .colab-df-convert:hover {\n",
              "      background-color: #E2EBFA;\n",
              "      box-shadow: 0px 1px 2px rgba(60, 64, 67, 0.3), 0px 1px 3px 1px rgba(60, 64, 67, 0.15);\n",
              "      fill: #174EA6;\n",
              "    }\n",
              "\n",
              "    .colab-df-buttons div {\n",
              "      margin-bottom: 4px;\n",
              "    }\n",
              "\n",
              "    [theme=dark] .colab-df-convert {\n",
              "      background-color: #3B4455;\n",
              "      fill: #D2E3FC;\n",
              "    }\n",
              "\n",
              "    [theme=dark] .colab-df-convert:hover {\n",
              "      background-color: #434B5C;\n",
              "      box-shadow: 0px 1px 3px 1px rgba(0, 0, 0, 0.15);\n",
              "      filter: drop-shadow(0px 1px 2px rgba(0, 0, 0, 0.3));\n",
              "      fill: #FFFFFF;\n",
              "    }\n",
              "  </style>\n",
              "\n",
              "    <script>\n",
              "      const buttonEl =\n",
              "        document.querySelector('#df-dc52eb5f-0a80-4dd6-b02b-f523af063cc5 button.colab-df-convert');\n",
              "      buttonEl.style.display =\n",
              "        google.colab.kernel.accessAllowed ? 'block' : 'none';\n",
              "\n",
              "      async function convertToInteractive(key) {\n",
              "        const element = document.querySelector('#df-dc52eb5f-0a80-4dd6-b02b-f523af063cc5');\n",
              "        const dataTable =\n",
              "          await google.colab.kernel.invokeFunction('convertToInteractive',\n",
              "                                                    [key], {});\n",
              "        if (!dataTable) return;\n",
              "\n",
              "        const docLinkHtml = 'Like what you see? Visit the ' +\n",
              "          '<a target=\"_blank\" href=https://colab.research.google.com/notebooks/data_table.ipynb>data table notebook</a>'\n",
              "          + ' to learn more about interactive tables.';\n",
              "        element.innerHTML = '';\n",
              "        dataTable['output_type'] = 'display_data';\n",
              "        await google.colab.output.renderOutput(dataTable, element);\n",
              "        const docLink = document.createElement('div');\n",
              "        docLink.innerHTML = docLinkHtml;\n",
              "        element.appendChild(docLink);\n",
              "      }\n",
              "    </script>\n",
              "  </div>\n",
              "\n",
              "\n",
              "<div id=\"df-c1b42c1d-920f-4ca7-9bf8-dc836e0d69bd\">\n",
              "  <button class=\"colab-df-quickchart\" onclick=\"quickchart('df-c1b42c1d-920f-4ca7-9bf8-dc836e0d69bd')\"\n",
              "            title=\"Suggest charts\"\n",
              "            style=\"display:none;\">\n",
              "\n",
              "<svg xmlns=\"http://www.w3.org/2000/svg\" height=\"24px\"viewBox=\"0 0 24 24\"\n",
              "     width=\"24px\">\n",
              "    <g>\n",
              "        <path d=\"M19 3H5c-1.1 0-2 .9-2 2v14c0 1.1.9 2 2 2h14c1.1 0 2-.9 2-2V5c0-1.1-.9-2-2-2zM9 17H7v-7h2v7zm4 0h-2V7h2v10zm4 0h-2v-4h2v4z\"/>\n",
              "    </g>\n",
              "</svg>\n",
              "  </button>\n",
              "\n",
              "<style>\n",
              "  .colab-df-quickchart {\n",
              "      --bg-color: #E8F0FE;\n",
              "      --fill-color: #1967D2;\n",
              "      --hover-bg-color: #E2EBFA;\n",
              "      --hover-fill-color: #174EA6;\n",
              "      --disabled-fill-color: #AAA;\n",
              "      --disabled-bg-color: #DDD;\n",
              "  }\n",
              "\n",
              "  [theme=dark] .colab-df-quickchart {\n",
              "      --bg-color: #3B4455;\n",
              "      --fill-color: #D2E3FC;\n",
              "      --hover-bg-color: #434B5C;\n",
              "      --hover-fill-color: #FFFFFF;\n",
              "      --disabled-bg-color: #3B4455;\n",
              "      --disabled-fill-color: #666;\n",
              "  }\n",
              "\n",
              "  .colab-df-quickchart {\n",
              "    background-color: var(--bg-color);\n",
              "    border: none;\n",
              "    border-radius: 50%;\n",
              "    cursor: pointer;\n",
              "    display: none;\n",
              "    fill: var(--fill-color);\n",
              "    height: 32px;\n",
              "    padding: 0;\n",
              "    width: 32px;\n",
              "  }\n",
              "\n",
              "  .colab-df-quickchart:hover {\n",
              "    background-color: var(--hover-bg-color);\n",
              "    box-shadow: 0 1px 2px rgba(60, 64, 67, 0.3), 0 1px 3px 1px rgba(60, 64, 67, 0.15);\n",
              "    fill: var(--button-hover-fill-color);\n",
              "  }\n",
              "\n",
              "  .colab-df-quickchart-complete:disabled,\n",
              "  .colab-df-quickchart-complete:disabled:hover {\n",
              "    background-color: var(--disabled-bg-color);\n",
              "    fill: var(--disabled-fill-color);\n",
              "    box-shadow: none;\n",
              "  }\n",
              "\n",
              "  .colab-df-spinner {\n",
              "    border: 2px solid var(--fill-color);\n",
              "    border-color: transparent;\n",
              "    border-bottom-color: var(--fill-color);\n",
              "    animation:\n",
              "      spin 1s steps(1) infinite;\n",
              "  }\n",
              "\n",
              "  @keyframes spin {\n",
              "    0% {\n",
              "      border-color: transparent;\n",
              "      border-bottom-color: var(--fill-color);\n",
              "      border-left-color: var(--fill-color);\n",
              "    }\n",
              "    20% {\n",
              "      border-color: transparent;\n",
              "      border-left-color: var(--fill-color);\n",
              "      border-top-color: var(--fill-color);\n",
              "    }\n",
              "    30% {\n",
              "      border-color: transparent;\n",
              "      border-left-color: var(--fill-color);\n",
              "      border-top-color: var(--fill-color);\n",
              "      border-right-color: var(--fill-color);\n",
              "    }\n",
              "    40% {\n",
              "      border-color: transparent;\n",
              "      border-right-color: var(--fill-color);\n",
              "      border-top-color: var(--fill-color);\n",
              "    }\n",
              "    60% {\n",
              "      border-color: transparent;\n",
              "      border-right-color: var(--fill-color);\n",
              "    }\n",
              "    80% {\n",
              "      border-color: transparent;\n",
              "      border-right-color: var(--fill-color);\n",
              "      border-bottom-color: var(--fill-color);\n",
              "    }\n",
              "    90% {\n",
              "      border-color: transparent;\n",
              "      border-bottom-color: var(--fill-color);\n",
              "    }\n",
              "  }\n",
              "</style>\n",
              "\n",
              "  <script>\n",
              "    async function quickchart(key) {\n",
              "      const quickchartButtonEl =\n",
              "        document.querySelector('#' + key + ' button');\n",
              "      quickchartButtonEl.disabled = true;  // To prevent multiple clicks.\n",
              "      quickchartButtonEl.classList.add('colab-df-spinner');\n",
              "      try {\n",
              "        const charts = await google.colab.kernel.invokeFunction(\n",
              "            'suggestCharts', [key], {});\n",
              "      } catch (error) {\n",
              "        console.error('Error during call to suggestCharts:', error);\n",
              "      }\n",
              "      quickchartButtonEl.classList.remove('colab-df-spinner');\n",
              "      quickchartButtonEl.classList.add('colab-df-quickchart-complete');\n",
              "    }\n",
              "    (() => {\n",
              "      let quickchartButtonEl =\n",
              "        document.querySelector('#df-c1b42c1d-920f-4ca7-9bf8-dc836e0d69bd button');\n",
              "      quickchartButtonEl.style.display =\n",
              "        google.colab.kernel.accessAllowed ? 'block' : 'none';\n",
              "    })();\n",
              "  </script>\n",
              "</div>\n",
              "\n",
              "    </div>\n",
              "  </div>\n"
            ],
            "application/vnd.google.colaboratory.intrinsic+json": {
              "type": "dataframe",
              "variable_name": "df_province_maxcount",
              "summary": "{\n  \"name\": \"df_province_maxcount\",\n  \"rows\": 39,\n  \"fields\": [\n    {\n      \"column\": \"Province\",\n      \"properties\": {\n        \"dtype\": \"category\",\n        \"num_unique_values\": 13,\n        \"samples\": [\n          \"Saskatchewan\",\n          \"Prince Edward Island\",\n          \"Alberta\"\n        ],\n        \"semantic_type\": \"\",\n        \"description\": \"\"\n      }\n    },\n    {\n      \"column\": \"Gender\",\n      \"properties\": {\n        \"dtype\": \"category\",\n        \"num_unique_values\": 3,\n        \"samples\": [\n          \"Men+\",\n          \"Women+\",\n          \"Total - gender\"\n        ],\n        \"semantic_type\": \"\",\n        \"description\": \"\"\n      }\n    },\n    {\n      \"column\": \"maxAllAges\",\n      \"properties\": {\n        \"dtype\": \"number\",\n        \"std\": 3271533.764010051,\n        \"min\": 0.0,\n        \"max\": 15608369.0,\n        \"num_unique_values\": 34,\n        \"samples\": [\n          0.0,\n          7761516.0,\n          8874683.0\n        ],\n        \"semantic_type\": \"\",\n        \"description\": \"\"\n      }\n    },\n    {\n      \"column\": \"max15to19\",\n      \"properties\": {\n        \"dtype\": \"number\",\n        \"std\": 187213.9739765449,\n        \"min\": 0.0,\n        \"max\": 896092.0,\n        \"num_unique_values\": 34,\n        \"samples\": [\n          0.0,\n          461810.0,\n          511453.0\n        ],\n        \"semantic_type\": \"\",\n        \"description\": \"\"\n      }\n    },\n    {\n      \"column\": \"max60to65\",\n      \"properties\": {\n        \"dtype\": \"number\",\n        \"std\": 0,\n        \"min\": 0,\n        \"max\": 0,\n        \"num_unique_values\": 1,\n        \"samples\": [\n          0\n        ],\n        \"semantic_type\": \"\",\n        \"description\": \"\"\n      }\n    },\n    {\n      \"column\": \"population_difference_all_ages_vs_15to19\",\n      \"properties\": {\n        \"dtype\": \"number\",\n        \"std\": 3084459.066890783,\n        \"min\": 0.0,\n        \"max\": 14712277.0,\n        \"num_unique_values\": 34,\n        \"samples\": [\n          0.0\n        ],\n        \"semantic_type\": \"\",\n        \"description\": \"\"\n      }\n    },\n    {\n      \"column\": \"population_difference_15to19_vs_60to65\",\n      \"properties\": {\n        \"dtype\": \"number\",\n        \"std\": 0,\n        \"min\": 0,\n        \"max\": 0,\n        \"num_unique_values\": 1,\n        \"samples\": [\n          0\n        ],\n        \"semantic_type\": \"\",\n        \"description\": \"\"\n      }\n    }\n  ]\n}"
            }
          },
          "metadata": {},
          "execution_count": 45
        }
      ],
      "source": [
        "df_province_maxcount.head()"
      ]
    },
    {
      "cell_type": "markdown",
      "id": "a646b098",
      "metadata": {
        "id": "a646b098"
      },
      "source": [
        "# Import libraries and province_codes dictionary to use MapQuest geocode"
      ]
    },
    {
      "cell_type": "code",
      "execution_count": null,
      "id": "b2c35581",
      "metadata": {
        "id": "b2c35581"
      },
      "outputs": [],
      "source": [
        "import time\n",
        "from geopy.geocoders import MapQuest\n",
        "from geopy.exc import GeocoderTimedOut, GeocoderServiceError\n",
        "from requests.exceptions import ConnectionError  # Import the ConnectionError\n",
        "from province_codes import province_codes\n",
        "from geopy.location import Location\n",
        "import folium"
      ]
    },
    {
      "cell_type": "markdown",
      "id": "392b5369",
      "metadata": {
        "id": "392b5369"
      },
      "source": [
        "### Create map by province"
      ]
    },
    {
      "cell_type": "code",
      "execution_count": null,
      "id": "8a53c8af",
      "metadata": {
        "colab": {
          "base_uri": "https://localhost:8080/"
        },
        "id": "8a53c8af",
        "outputId": "55b43fc8-595e-4cb9-9917-907573d9a55d"
      },
      "outputs": [
        {
          "output_type": "stream",
          "name": "stdout",
          "text": [
            "Alberta,AB, CA\n",
            "British Columbia,BC, CA\n",
            "Manitoba,MB, CA\n",
            "New Brunswick,NB, CA\n",
            "Newfoundland and Labrador,NL, CA\n",
            "Northwest Territories,NT, CA\n",
            "Nova Scotia,NS, CA\n",
            "Nunavut,NU, CA\n",
            "Ontario,ON, CA\n",
            "Prince Edward Island,PE, CA\n",
            "Quebec,QC, CA\n",
            "Saskatchewan,SK, CA\n",
            "Yukon,YT, CA\n"
          ]
        }
      ],
      "source": [
        "# Initialize the geocoder with your API key.\n",
        "geo = MapQuest(api_key=keys.mapquest_key)\n",
        "province_list = df_province_maxcount.Province.unique()\n",
        "province_list.sort()\n",
        "province_list = province_list.tolist()\n",
        "\n",
        "# Reverse the province_codes dictionary\n",
        "province_codes_reversed = {v: k for k, v in province_codes.items()}\n",
        "\n",
        "locations = []\n",
        "for province_name in province_list:\n",
        "    processed = False\n",
        "    delay = .1  # Initial delay before retrying in seconds.\n",
        "    while not processed:\n",
        "        try:\n",
        "            province_code = province_codes_reversed[province_name]\n",
        "            location = geo.geocode(f'{province_code}, Canada')\n",
        "            if location:\n",
        "                location = Location(address=f'{province_name},{location.address}',\n",
        "                                    point=location.point,\n",
        "                                    raw=location.raw)\n",
        "            locations.append(location)\n",
        "            print(location)\n",
        "            processed = True\n",
        "        except GeocoderTimedOut:\n",
        "            print('Geocoder service timed out. Waiting before retrying...')\n",
        "            time.sleep(delay)\n",
        "            delay += .1  # Increment the delay\n",
        "        except GeocoderServiceError as e:\n",
        "            print(f'Geocoder service error: {e}')\n",
        "            break  # Exit the loop or handle it in some other way.\n",
        "        except ConnectionError as e:\n",
        "            print(f'Connection error occurred: {e}')\n",
        "            print('Will retry after delay.')\n",
        "            time.sleep(delay)\n",
        "            delay *= 2  # Use exponential backoff for the retry delay\n",
        "        except Exception as e:\n",
        "            print(f'An unexpected error occurred: {e}')\n",
        "            break  # Exit the loop or handle it in some other way."
      ]
    },
    {
      "cell_type": "code",
      "execution_count": null,
      "id": "9d023629",
      "metadata": {
        "id": "9d023629"
      },
      "outputs": [],
      "source": [
        "# Find the index of the maximum value in the 'max15to19' column for each province\n",
        "idx = df_province_maxcount.groupby('Province')['max15to19'].idxmax()\n",
        "\n",
        "# Select the rows corresponding to the indices\n",
        "max_by_province = df_province_maxcount.loc[idx]\n",
        "\n",
        "\n"
      ]
    },
    {
      "cell_type": "code",
      "execution_count": null,
      "id": "03e9fa45",
      "metadata": {
        "id": "03e9fa45"
      },
      "outputs": [],
      "source": [
        "# Creating a base map\n",
        "canadamap = folium.Map(location=[43.653963, -79.387207], zoom_start=4, detect_retina=True)\n",
        "\n",
        "#Create markers\n",
        "sorted_df = df_province_maxcount.sort_values(by='max15to19', ascending=False)\n",
        "\n",
        "# Create a dictionary to easily map provinces to their locations\n",
        "location_dict = {loc.address.split(\",\")[0]: loc for loc in locations}\n",
        "\n",
        "# Iterate over the groups in sorted dataframe\n",
        "for name, group in sorted_df.groupby('Province'):\n",
        "    # Check if the province name is in the location dictionary\n",
        "    if name in location_dict:\n",
        "        # Extract the location object\n",
        "        loc = location_dict[name]\n",
        "        # Start with the province code in the popup text\n",
        "        popup_text = [f\"{province_codes_reversed[name]}\"]\n",
        "        # Append maxAllAges for each sex in this province\n",
        "        for row in group.itertuples():\n",
        "            popup_text.append(f\"{row.Gender}: {row.max15to19}\")\n",
        "        # Join the popup lines with HTML break line\n",
        "        popup_html = '<br>'.join(popup_text)\n",
        "        # Create a marker with the popup HTML\n",
        "        marker = folium.Marker(\n",
        "            tooltip='Max Total People by Province',\n",
        "            location=[loc.latitude, loc.longitude],\n",
        "            popup=folium.Popup(popup_html,parse_html=False)\n",
        "        )\n",
        "        # Add the marker to the map\n",
        "        marker.add_to(canadamap)\n",
        "    else:\n",
        "        print(f\"Location for {name} not found in locations list.\")\n",
        "\n",
        "# Display the map\n",
        "canadamap.save('Population_maxALLages.html')  # Saves the map to an HTML file which you can open in a browser. Replace the #’s with the name of your map.\n"
      ]
    }
  ],
  "metadata": {
    "kernelspec": {
      "display_name": "Python 3 (ipykernel)",
      "language": "python",
      "name": "python3"
    },
    "language_info": {
      "codemirror_mode": {
        "name": "ipython",
        "version": 3
      },
      "file_extension": ".py",
      "mimetype": "text/x-python",
      "name": "python",
      "nbconvert_exporter": "python",
      "pygments_lexer": "ipython3",
      "version": "3.11.8"
    },
    "colab": {
      "provenance": []
    }
  },
  "nbformat": 4,
  "nbformat_minor": 5
}